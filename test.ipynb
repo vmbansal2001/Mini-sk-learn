{
 "cells": [
  {
   "cell_type": "code",
   "execution_count": 1,
   "id": "eb4c7682",
   "metadata": {},
   "outputs": [],
   "source": [
    "import numpy as np\n",
    "import matplotlib.pyplot as plt"
   ]
  },
  {
   "cell_type": "code",
   "execution_count": 9,
   "id": "2cf675d4",
   "metadata": {},
   "outputs": [],
   "source": [
    "X = np.load(\"./KNN/Data/Regression/X_data.npy\")\n",
    "y = np.load(\"./KNN/Data/Regression/Y_data.npy\")"
   ]
  },
  {
   "cell_type": "code",
   "execution_count": 11,
   "id": "594bc3dc",
   "metadata": {},
   "outputs": [
    {
     "data": {
      "image/png": "[encoded data removed]",
      "text/plain": [
       "<Figure size 432x288 with 1 Axes>"
      ]
     },
     "metadata": {
      "needs_background": "light"
     },
     "output_type": "display_data"
    }
   ],
   "source": [
    "plt.scatter(X,y)\n",
    "plt.show()"
   ]
  },
  {
   "cell_type": "code",
   "execution_count": 13,
   "id": "6a6a7678",
   "metadata": {},
   "outputs": [],
   "source": [
    "from sklearn.neighbors import KNeighborsRegressor"
   ]
  },
  {
   "cell_type": "code",
   "execution_count": 14,
   "id": "fe06d4e9",
   "metadata": {},
   "outputs": [
    {
     "data": {
      "text/plain": [
       "KNeighborsRegressor()"
      ]
     },
     "execution_count": 14,
     "metadata": {},
     "output_type": "execute_result"
    }
   ],
   "source": [
    "KNNC = KNeighborsRegressor(n_neighbors=5)\n",
    "KNNC.fit(X,y)"
   ]
  },
  {
   "cell_type": "code",
   "execution_count": 15,
   "id": "83dce201",
   "metadata": {},
   "outputs": [
    {
     "data": {
      "text/plain": [
       "array([3.86193436])"
      ]
     },
     "execution_count": 15,
     "metadata": {},
     "output_type": "execute_result"
    }
   ],
   "source": [
    "KNNC.predict([X[10]])"
   ]
  },
  {
   "cell_type": "code",
   "execution_count": 16,
   "id": "d3497dc4",
   "metadata": {},
   "outputs": [
    {
     "data": {
      "text/plain": [
       "3.8163426871299393"
      ]
     },
     "execution_count": 16,
     "metadata": {},
     "output_type": "execute_result"
    }
   ],
   "source": [
    "y[10]"
   ]
  },
  {
   "cell_type": "code",
   "execution_count": 48,
   "id": "4dd8f7f2",
   "metadata": {},
   "outputs": [],
   "source": [
    "class KNNCRegressor:\n",
    "    def __init__(self, n_neighbours):\n",
    "        self.n_neighbours = n_neighbours\n",
    "    \n",
    "    def fit(self, X, y):\n",
    "        self.X = X\n",
    "        self.y = y\n",
    "        return self\n",
    "    \n",
    "    def predict(self, point):\n",
    "        self._distances = np.linalg.norm(self.X - point, ord=2, axis=1)\n",
    "        self._top_indexes = np.argsort(self._distances)[:self.n_neighbours]\n",
    "        self._unique, self._count = np.unique(self.y[self._top_indexes], return_counts=True)\n",
    "        self.y_pred = self._unique[np.argmax(self._count)]\n",
    "        return self.y_pred"
   ]
  },
  {
   "cell_type": "code",
   "execution_count": 67,
   "id": "7961e0b4",
   "metadata": {},
   "outputs": [
    {
     "name": "stdout",
     "output_type": "stream",
     "text": [
      "2 2\n"
     ]
    }
   ],
   "source": [
    "knnc = KNNClassifier(5)\n",
    "knnc.fit(X,y)\n",
    "\n",
    "\n",
    "idx = 322\n",
    "prediction = knnc.predict([X[idx]])\n",
    "true_value = y[idx]\n",
    "\n",
    "print(prediction,true_value)"
   ]
  },
  {
   "cell_type": "code",
   "execution_count": null,
   "id": "0c1a04ba",
   "metadata": {},
   "outputs": [],
   "source": []
  },
  {
   "cell_type": "code",
   "execution_count": null,
   "id": "da7a7b42",
   "metadata": {},
   "outputs": [],
   "source": []
  },
  {
   "cell_type": "code",
   "execution_count": null,
   "id": "dc99fd39",
   "metadata": {},
   "outputs": [],
   "source": []
  },
  {
   "cell_type": "code",
   "execution_count": null,
   "id": "e0c71026",
   "metadata": {},
   "outputs": [],
   "source": []
  },
  {
   "cell_type": "code",
   "execution_count": null,
   "id": "bd5f8856",
   "metadata": {},
   "outputs": [],
   "source": []
  },
  {
   "cell_type": "code",
   "execution_count": null,
   "id": "f5c359d2",
   "metadata": {},
   "outputs": [],
   "source": []
  },
  {
   "cell_type": "code",
   "execution_count": null,
   "id": "cb073179",
   "metadata": {},
   "outputs": [],
   "source": []
  },
  {
   "cell_type": "code",
   "execution_count": 44,
   "id": "6ffe40fd",
   "metadata": {},
   "outputs": [
    {
     "data": {
      "text/plain": [
       "array([378.12727487,  82.48794652,  21.72266222, 293.18478553,\n",
       "       117.45587181, 169.73887026, 348.93904987,  88.46563222,\n",
       "       160.01464465, 146.20808166, 115.25673935, 214.51578409,\n",
       "       223.53368814, 252.21832868, 158.66726128,  78.43714481,\n",
       "       217.94898465, 151.81471513, 160.50965641, 145.09523597,\n",
       "       246.40663944, 128.18293414, 174.06218558, 188.150793  ,\n",
       "       107.28604188, 112.31532173, 339.65852294, 203.03287321,\n",
       "       127.52020865, 195.82180628, 155.99747014,  96.75281717,\n",
       "       200.85111313, 132.96306843, 196.52603582, 339.06767741,\n",
       "       176.31326339,  57.04411844,   9.14846537, 228.49124566,\n",
       "        51.63322188, 153.30333146, 178.54969642,  68.78628026,\n",
       "       205.82707149, 193.12337416,  81.28134192, 177.21135575,\n",
       "       211.18487226, 215.14257902, 231.14420991, 123.36342738,\n",
       "        54.17089901, 163.9951278 , 200.77317553,  97.89045629,\n",
       "       134.39167574, 246.52090947, 186.59626713, 110.60058893,\n",
       "       267.52073633, 250.6323964 , 283.63251438, 170.04267254,\n",
       "       105.04230401, 184.94894011, 191.19446089, 221.27350771,\n",
       "       234.59493992,  93.3354984 , 198.90283646, 112.07026386,\n",
       "       187.42998245, 243.13761717,  70.3315833 , 254.85457498,\n",
       "       329.85368182, 174.81540427,  81.32986971, 258.05701902,\n",
       "       108.10101965,  55.19483291, 205.44390207, 169.74606448,\n",
       "       263.66299538, 144.55588266, 190.91395106, 221.77438025,\n",
       "        93.94804672, 145.44830993, 212.56317283, 244.98092138,\n",
       "       103.12372834, 244.26617874, 167.79110736, 176.30801448,\n",
       "        94.87264155,  39.47989213, 131.14984909,  77.17692902,\n",
       "       104.99564183,  89.36872964, 248.9933724 , 103.65150086,\n",
       "        77.49532708,  38.8949712 , 193.64560538, 162.43361305,\n",
       "        24.76148681, 114.25120617,  45.64533204, 135.47885273,\n",
       "       125.93890334, 222.71180117, 178.59006371,  19.92412939,\n",
       "       325.79499158,  48.90025164, 195.74860397, 145.44130513,\n",
       "       240.8543053 , 276.84595143, 211.95653748, 211.88635342,\n",
       "       274.62806673, 105.83061767, 134.7495138 , 282.20424434,\n",
       "       232.3271079 , 145.62500923,  25.4254349 , 285.25649825,\n",
       "       106.61129754, 194.09168282, 208.24099109, 162.14279657,\n",
       "       102.68946651,  64.89543333, 264.04383392, 234.58833684,\n",
       "       222.12984544, 135.43307505, 113.78495402,  86.29649729,\n",
       "        82.35335016, 159.89747987, 165.38192111, 165.63349833,\n",
       "       125.47712507, 134.02656652, 153.84693423,  91.21943415,\n",
       "       202.45088308, 118.61353905, 209.28125935, 261.52375875,\n",
       "       203.90561897, 130.38202846, 123.80261506, 260.98703337,\n",
       "       277.35678918, 214.97978241, 249.0100532 , 149.64781697,\n",
       "       122.04942753, 161.84538397, 116.81710191, 244.4671974 ,\n",
       "       235.5355707 , 186.85971477, 148.55081069, 206.34431267,\n",
       "       191.24805171, 190.73456903, 105.54233544,  38.30366547,\n",
       "       134.25943427, 175.67217974, 126.91668626, 260.54011629,\n",
       "       300.69519453, 268.67014836, 140.49572457,  53.35017937,\n",
       "       318.25693212,  72.05600893, 129.89872225, 214.38489034,\n",
       "       116.62502675,  27.94555332, 104.73527649, 186.69127699,\n",
       "       225.04748048,  66.12932593, 157.62597353, 177.46371043,\n",
       "       175.51678673, 147.38353295,  82.20124635, 135.92582583,\n",
       "       148.67537881, 246.48080446, 105.22463779, 145.73827972,\n",
       "       176.27055445, 118.72997999, 255.9003622 ,  96.85271468,\n",
       "       211.83749133, 224.48188482, 124.79909448, 184.34272299,\n",
       "       184.62811226,  89.70959868, 177.95047353, 251.61307127,\n",
       "       165.94413474, 243.11953444, 188.28727027, 162.43138391,\n",
       "       118.00771783, 119.18233047,  46.56459544, 171.39465726,\n",
       "        88.99627278,  31.4107179 , 154.01049049, 134.94306905,\n",
       "        59.76737657,  93.09600952, 104.38066513,  93.75266124,\n",
       "       167.00403812, 119.65319351, 351.79008908, 142.91234845,\n",
       "       127.4871026 , 173.65632073, 258.3082525 , 233.18304201,\n",
       "        13.31282907,  60.18574332, 198.0245096 ,  47.14479845,\n",
       "       132.92018209, 242.79088361, 120.73196136, 111.84386655,\n",
       "       230.40661439, 177.04432891, 329.88824346, 192.45056528,\n",
       "        55.3643267 , 159.67396309, 297.52498892, 188.11580789,\n",
       "       136.80517087, 157.58557625, 198.85471493, 166.41585953,\n",
       "       201.85039477,  32.44007875, 144.28080772, 117.56329267,\n",
       "       177.48390458,  78.85817167, 250.23322438, 136.21305809,\n",
       "       134.1388472 , 204.14406008,  69.70735369, 133.70213944,\n",
       "        44.92331763, 106.24180489, 182.84529504, 293.84582048,\n",
       "       137.5615861 , 202.17901174, 180.92836342, 252.84404974,\n",
       "       154.47688197,  67.588018  , 126.26897372, 253.62546402,\n",
       "       118.12020076, 100.62423345, 103.37062332, 176.03692402,\n",
       "       152.68422855, 137.67078941, 270.5653094 , 315.54906534,\n",
       "       118.83662315, 101.03786723,  93.10017993, 243.775662  ,\n",
       "       117.91337138, 340.56224186, 197.8643582 , 119.72548203,\n",
       "       155.94438058, 233.64482797, 298.21700345, 264.19000624,\n",
       "        58.42557142, 203.94516049, 284.25958691, 234.59003154,\n",
       "        75.89363114, 165.27871774, 116.23319703, 147.44184494,\n",
       "       132.73626295, 221.7094049 , 251.35460419, 113.63139418,\n",
       "        86.88970168, 202.55734467, 324.52937696,  57.513698  ,\n",
       "       288.49401618,  67.61360753, 285.28972034, 176.04375819,\n",
       "       151.53363662,  54.71021802, 194.3578257 , 408.1527895 ,\n",
       "       215.83443231, 108.44076456, 180.66029794,  79.65493505,\n",
       "       249.73720189,  54.49208849, 206.4257693 , 114.90825826,\n",
       "       213.43282058, 235.21433689, 221.12277015, 167.34890969,\n",
       "       325.1138445 , 137.66460055, 363.77291497, 198.68846282,\n",
       "        78.72338363,  76.42614616,  41.52555673, 146.0549228 ,\n",
       "       230.01655237, 119.09514421, 242.95665391, 334.44450416,\n",
       "       292.39501384, 253.91953333, 104.9005418 , 176.3072948 ,\n",
       "       110.12136309, 184.91752533, 206.35403876, 233.63180291,\n",
       "       227.37211791, 130.79835448, 181.15643052, 133.44882371,\n",
       "       174.78181677, 151.77539529, 260.642022  , 196.11924557,\n",
       "       101.03623972,  87.13106688, 107.02382614, 205.04578993,\n",
       "       291.73913098, 136.21415651,  84.48337866, 149.4077235 ,\n",
       "       139.88695067, 147.82786053, 131.90532318, 141.27361617,\n",
       "       182.81440192, 181.62869181, 235.70369515, 255.93074921,\n",
       "       167.50214967, 174.4255    , 166.69113239, 100.85127737,\n",
       "       114.48586384, 130.59876701,  49.17891397, 243.63909686,\n",
       "       155.37778441, 177.8624458 , 198.69722715, 182.95039662,\n",
       "        79.0142647 , 399.72440165, 148.08333277,  45.99247481,\n",
       "       146.6082004 , 228.86171127, 119.14190655, 120.74958572,\n",
       "       283.41917867, 263.17668318, 153.45565793,  46.49837487,\n",
       "        51.21741005, 198.02538219, 102.47382801,  96.15085027,\n",
       "       241.32019562, 282.3714942 , 216.05867856,  59.0033222 ,\n",
       "       141.76719957, 129.45600472,  79.18955949, 187.78021165,\n",
       "       311.51158666, 142.67614214, 130.10399568, 115.12660554,\n",
       "       212.78085487, 201.99180701, 220.39898082, 200.90038809,\n",
       "       232.63995558, 173.62966616, 184.85378641,  98.88043791,\n",
       "        56.72740602, 240.02126559,  17.73112392, 136.59145249,\n",
       "       212.26410068, 124.38650242, 182.78914661, 222.14754743,\n",
       "       115.33625238, 127.6708453 , 174.69974786, 204.30748041,\n",
       "       187.57956108, 172.14924948, 173.69892195, 161.63825901,\n",
       "       322.76237565, 127.91397785,  41.56699585, 347.59830363,\n",
       "       151.75930318, 105.94168528, 216.17542535, 153.39475752,\n",
       "       104.34448302, 222.73299854,  59.51930507,  13.90953913,\n",
       "        75.76562025,  39.88055648, 104.29775752, 279.94287941,\n",
       "       242.34100115, 183.84826886, 190.48759623, 200.11713703,\n",
       "       310.82397232,  76.46602324,  63.25622307, 173.99126746,\n",
       "       112.81970197, 238.6076944 ,  66.17534654,  82.1398954 ,\n",
       "       135.70424783, 139.02808859,  99.11747728,  32.1234144 ,\n",
       "       214.70707758, 250.93575433, 237.71788858, 234.68414985,\n",
       "       183.5587089 , 235.66440342, 245.85124112, 105.44344187,\n",
       "       245.25576219, 180.34752029, 195.14750289,  71.1273462 ,\n",
       "       160.79445576, 194.7907125 , 103.50192183, 101.9676267 ,\n",
       "       133.4198239 ,  29.50321903,  82.0690041 ,  95.28869199])"
      ]
     },
     "execution_count": 44,
     "metadata": {},
     "output_type": "execute_result"
    }
   ],
   "source": [
    "def distance(p1,p2):\n",
    "    return ((p1[0] - p2[0])**2 + (p1[1] - p2[1])**2)**0.5\n",
    "\n",
    "distances = distance((X[:,0], X[:,1]), [550,32])`\n",
    "\n",
    "distances"
   ]
  },
  {
   "cell_type": "code",
   "execution_count": 45,
   "id": "d1a62942",
   "metadata": {},
   "outputs": [
    {
     "data": {
      "text/plain": [
       "array([378.12727487,  82.48794652,  21.72266222, 293.18478553,\n",
       "       117.45587181, 169.73887026, 348.93904987,  88.46563222,\n",
       "       160.01464465, 146.20808166, 115.25673935, 214.51578409,\n",
       "       223.53368814, 252.21832868, 158.66726128,  78.43714481,\n",
       "       217.94898465, 151.81471513, 160.50965641, 145.09523597,\n",
       "       246.40663944, 128.18293414, 174.06218558, 188.150793  ,\n",
       "       107.28604188, 112.31532173, 339.65852294, 203.03287321,\n",
       "       127.52020865, 195.82180628, 155.99747014,  96.75281717,\n",
       "       200.85111313, 132.96306843, 196.52603582, 339.06767741,\n",
       "       176.31326339,  57.04411844,   9.14846537, 228.49124566,\n",
       "        51.63322188, 153.30333146, 178.54969642,  68.78628026,\n",
       "       205.82707149, 193.12337416,  81.28134192, 177.21135575,\n",
       "       211.18487226, 215.14257902, 231.14420991, 123.36342738,\n",
       "        54.17089901, 163.9951278 , 200.77317553,  97.89045629,\n",
       "       134.39167574, 246.52090947, 186.59626713, 110.60058893,\n",
       "       267.52073633, 250.6323964 , 283.63251438, 170.04267254,\n",
       "       105.04230401, 184.94894011, 191.19446089, 221.27350771,\n",
       "       234.59493992,  93.3354984 , 198.90283646, 112.07026386,\n",
       "       187.42998245, 243.13761717,  70.3315833 , 254.85457498,\n",
       "       329.85368182, 174.81540427,  81.32986971, 258.05701902,\n",
       "       108.10101965,  55.19483291, 205.44390207, 169.74606448,\n",
       "       263.66299538, 144.55588266, 190.91395106, 221.77438025,\n",
       "        93.94804672, 145.44830993, 212.56317283, 244.98092138,\n",
       "       103.12372834, 244.26617874, 167.79110736, 176.30801448,\n",
       "        94.87264155,  39.47989213, 131.14984909,  77.17692902,\n",
       "       104.99564183,  89.36872964, 248.9933724 , 103.65150086,\n",
       "        77.49532708,  38.8949712 , 193.64560538, 162.43361305,\n",
       "        24.76148681, 114.25120617,  45.64533204, 135.47885273,\n",
       "       125.93890334, 222.71180117, 178.59006371,  19.92412939,\n",
       "       325.79499158,  48.90025164, 195.74860397, 145.44130513,\n",
       "       240.8543053 , 276.84595143, 211.95653748, 211.88635342,\n",
       "       274.62806673, 105.83061767, 134.7495138 , 282.20424434,\n",
       "       232.3271079 , 145.62500923,  25.4254349 , 285.25649825,\n",
       "       106.61129754, 194.09168282, 208.24099109, 162.14279657,\n",
       "       102.68946651,  64.89543333, 264.04383392, 234.58833684,\n",
       "       222.12984544, 135.43307505, 113.78495402,  86.29649729,\n",
       "        82.35335016, 159.89747987, 165.38192111, 165.63349833,\n",
       "       125.47712507, 134.02656652, 153.84693423,  91.21943415,\n",
       "       202.45088308, 118.61353905, 209.28125935, 261.52375875,\n",
       "       203.90561897, 130.38202846, 123.80261506, 260.98703337,\n",
       "       277.35678918, 214.97978241, 249.0100532 , 149.64781697,\n",
       "       122.04942753, 161.84538397, 116.81710191, 244.4671974 ,\n",
       "       235.5355707 , 186.85971477, 148.55081069, 206.34431267,\n",
       "       191.24805171, 190.73456903, 105.54233544,  38.30366547,\n",
       "       134.25943427, 175.67217974, 126.91668626, 260.54011629,\n",
       "       300.69519453, 268.67014836, 140.49572457,  53.35017937,\n",
       "       318.25693212,  72.05600893, 129.89872225, 214.38489034,\n",
       "       116.62502675,  27.94555332, 104.73527649, 186.69127699,\n",
       "       225.04748048,  66.12932593, 157.62597353, 177.46371043,\n",
       "       175.51678673, 147.38353295,  82.20124635, 135.92582583,\n",
       "       148.67537881, 246.48080446, 105.22463779, 145.73827972,\n",
       "       176.27055445, 118.72997999, 255.9003622 ,  96.85271468,\n",
       "       211.83749133, 224.48188482, 124.79909448, 184.34272299,\n",
       "       184.62811226,  89.70959868, 177.95047353, 251.61307127,\n",
       "       165.94413474, 243.11953444, 188.28727027, 162.43138391,\n",
       "       118.00771783, 119.18233047,  46.56459544, 171.39465726,\n",
       "        88.99627278,  31.4107179 , 154.01049049, 134.94306905,\n",
       "        59.76737657,  93.09600952, 104.38066513,  93.75266124,\n",
       "       167.00403812, 119.65319351, 351.79008908, 142.91234845,\n",
       "       127.4871026 , 173.65632073, 258.3082525 , 233.18304201,\n",
       "        13.31282907,  60.18574332, 198.0245096 ,  47.14479845,\n",
       "       132.92018209, 242.79088361, 120.73196136, 111.84386655,\n",
       "       230.40661439, 177.04432891, 329.88824346, 192.45056528,\n",
       "        55.3643267 , 159.67396309, 297.52498892, 188.11580789,\n",
       "       136.80517087, 157.58557625, 198.85471493, 166.41585953,\n",
       "       201.85039477,  32.44007875, 144.28080772, 117.56329267,\n",
       "       177.48390458,  78.85817167, 250.23322438, 136.21305809,\n",
       "       134.1388472 , 204.14406008,  69.70735369, 133.70213944,\n",
       "        44.92331763, 106.24180489, 182.84529504, 293.84582048,\n",
       "       137.5615861 , 202.17901174, 180.92836342, 252.84404974,\n",
       "       154.47688197,  67.588018  , 126.26897372, 253.62546402,\n",
       "       118.12020076, 100.62423345, 103.37062332, 176.03692402,\n",
       "       152.68422855, 137.67078941, 270.5653094 , 315.54906534,\n",
       "       118.83662315, 101.03786723,  93.10017993, 243.775662  ,\n",
       "       117.91337138, 340.56224186, 197.8643582 , 119.72548203,\n",
       "       155.94438058, 233.64482797, 298.21700345, 264.19000624,\n",
       "        58.42557142, 203.94516049, 284.25958691, 234.59003154,\n",
       "        75.89363114, 165.27871774, 116.23319703, 147.44184494,\n",
       "       132.73626295, 221.7094049 , 251.35460419, 113.63139418,\n",
       "        86.88970168, 202.55734467, 324.52937696,  57.513698  ,\n",
       "       288.49401618,  67.61360753, 285.28972034, 176.04375819,\n",
       "       151.53363662,  54.71021802, 194.3578257 , 408.1527895 ,\n",
       "       215.83443231, 108.44076456, 180.66029794,  79.65493505,\n",
       "       249.73720189,  54.49208849, 206.4257693 , 114.90825826,\n",
       "       213.43282058, 235.21433689, 221.12277015, 167.34890969,\n",
       "       325.1138445 , 137.66460055, 363.77291497, 198.68846282,\n",
       "        78.72338363,  76.42614616,  41.52555673, 146.0549228 ,\n",
       "       230.01655237, 119.09514421, 242.95665391, 334.44450416,\n",
       "       292.39501384, 253.91953333, 104.9005418 , 176.3072948 ,\n",
       "       110.12136309, 184.91752533, 206.35403876, 233.63180291,\n",
       "       227.37211791, 130.79835448, 181.15643052, 133.44882371,\n",
       "       174.78181677, 151.77539529, 260.642022  , 196.11924557,\n",
       "       101.03623972,  87.13106688, 107.02382614, 205.04578993,\n",
       "       291.73913098, 136.21415651,  84.48337866, 149.4077235 ,\n",
       "       139.88695067, 147.82786053, 131.90532318, 141.27361617,\n",
       "       182.81440192, 181.62869181, 235.70369515, 255.93074921,\n",
       "       167.50214967, 174.4255    , 166.69113239, 100.85127737,\n",
       "       114.48586384, 130.59876701,  49.17891397, 243.63909686,\n",
       "       155.37778441, 177.8624458 , 198.69722715, 182.95039662,\n",
       "        79.0142647 , 399.72440165, 148.08333277,  45.99247481,\n",
       "       146.6082004 , 228.86171127, 119.14190655, 120.74958572,\n",
       "       283.41917867, 263.17668318, 153.45565793,  46.49837487,\n",
       "        51.21741005, 198.02538219, 102.47382801,  96.15085027,\n",
       "       241.32019562, 282.3714942 , 216.05867856,  59.0033222 ,\n",
       "       141.76719957, 129.45600472,  79.18955949, 187.78021165,\n",
       "       311.51158666, 142.67614214, 130.10399568, 115.12660554,\n",
       "       212.78085487, 201.99180701, 220.39898082, 200.90038809,\n",
       "       232.63995558, 173.62966616, 184.85378641,  98.88043791,\n",
       "        56.72740602, 240.02126559,  17.73112392, 136.59145249,\n",
       "       212.26410068, 124.38650242, 182.78914661, 222.14754743,\n",
       "       115.33625238, 127.6708453 , 174.69974786, 204.30748041,\n",
       "       187.57956108, 172.14924948, 173.69892195, 161.63825901,\n",
       "       322.76237565, 127.91397785,  41.56699585, 347.59830363,\n",
       "       151.75930318, 105.94168528, 216.17542535, 153.39475752,\n",
       "       104.34448302, 222.73299854,  59.51930507,  13.90953913,\n",
       "        75.76562025,  39.88055648, 104.29775752, 279.94287941,\n",
       "       242.34100115, 183.84826886, 190.48759623, 200.11713703,\n",
       "       310.82397232,  76.46602324,  63.25622307, 173.99126746,\n",
       "       112.81970197, 238.6076944 ,  66.17534654,  82.1398954 ,\n",
       "       135.70424783, 139.02808859,  99.11747728,  32.1234144 ,\n",
       "       214.70707758, 250.93575433, 237.71788858, 234.68414985,\n",
       "       183.5587089 , 235.66440342, 245.85124112, 105.44344187,\n",
       "       245.25576219, 180.34752029, 195.14750289,  71.1273462 ,\n",
       "       160.79445576, 194.7907125 , 103.50192183, 101.9676267 ,\n",
       "       133.4198239 ,  29.50321903,  82.0690041 ,  95.28869199])"
      ]
     },
     "execution_count": 45,
     "metadata": {},
     "output_type": "execute_result"
    }
   ],
   "source": [
    "distances = np.linalg.norm(X - [550,32],ord=2, axis=1)\n",
    "distances"
   ]
  },
  {
   "cell_type": "code",
   "execution_count": null,
   "id": "b1a6490d",
   "metadata": {},
   "outputs": [],
   "source": []
  },
  {
   "cell_type": "code",
   "execution_count": null,
   "id": "56425cac",
   "metadata": {},
   "outputs": [],
   "source": []
  },
  {
   "cell_type": "code",
   "execution_count": null,
   "id": "63de7702",
   "metadata": {},
   "outputs": [],
   "source": []
  },
  {
   "cell_type": "code",
   "execution_count": null,
   "id": "369e2a2c",
   "metadata": {},
   "outputs": [],
   "source": []
  }
 ],
 "metadata": {
  "kernelspec": {
   "display_name": "Python 3 (ipykernel)",
   "language": "python",
   "name": "python3"
  },
  "language_info": {
   "codemirror_mode": {
    "name": "ipython",
    "version": 3
   },
   "file_extension": ".py",
   "mimetype": "text/x-python",
   "name": "python",
   "nbconvert_exporter": "python",
   "pygments_lexer": "ipython3",
   "version": "3.8.10"
  }
 },
 "nbformat": 4,
 "nbformat_minor": 5
}
